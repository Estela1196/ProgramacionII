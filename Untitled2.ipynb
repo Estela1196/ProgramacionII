{
  "nbformat": 4,
  "nbformat_minor": 0,
  "metadata": {
    "colab": {
      "name": "Untitled2.ipynb",
      "provenance": [],
      "authorship_tag": "ABX9TyMXRLyE7z0qBxzRF3xUrkMv",
      "include_colab_link": true
    },
    "kernelspec": {
      "name": "python3",
      "display_name": "Python 3"
    },
    "language_info": {
      "name": "python"
    }
  },
  "cells": [
    {
      "cell_type": "markdown",
      "metadata": {
        "id": "view-in-github",
        "colab_type": "text"
      },
      "source": [
        "<a href=\"https://colab.research.google.com/github/Estela1196/ProgramacionII/blob/main/Untitled2.ipynb\" target=\"_parent\"><img src=\"https://colab.research.google.com/assets/colab-badge.svg\" alt=\"Open In Colab\"/></a>"
      ]
    },
    {
      "cell_type": "markdown",
      "source": [
        "Primer programa de Hola mundo\n",
        "Solicitamos el nombre del usuario y lo saludamos \n",
        "Elaborado por: Blanca Estela Cruz Trejo\n",
        "Fecha: 23/08/2022"
      ],
      "metadata": {
        "id": "-LEOlKIg_FB6"
      }
    },
    {
      "cell_type": "code",
      "execution_count": 4,
      "metadata": {
        "colab": {
          "base_uri": "https://localhost:8080/"
        },
        "id": "3y3_AzlM7YlF",
        "outputId": "2a00e4bd-c540-447e-dd49-70a1a123a3dc"
      },
      "outputs": [
        {
          "output_type": "stream",
          "name": "stdout",
          "text": [
            "Escribe tu nombreBlanquis\n",
            "Hola  Blanquis  Como estas\n"
          ]
        }
      ],
      "source": [
        "nombreAlumno = input(\"Escribe tu nombre\")\n",
        "print(\"Hola \", nombreAlumno,\" Como estas\")"
      ]
    }
  ]
}