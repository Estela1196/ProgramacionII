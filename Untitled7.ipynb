{
  "nbformat": 4,
  "nbformat_minor": 0,
  "metadata": {
    "colab": {
      "name": "Untitled7.ipynb",
      "provenance": [],
      "authorship_tag": "ABX9TyM1UI6ZmDOAkQJIf+/cMGIQ",
      "include_colab_link": true
    },
    "kernelspec": {
      "name": "python3",
      "display_name": "Python 3"
    },
    "language_info": {
      "name": "python"
    }
  },
  "cells": [
    {
      "cell_type": "markdown",
      "metadata": {
        "id": "view-in-github",
        "colab_type": "text"
      },
      "source": [
        "<a href=\"https://colab.research.google.com/github/Estela1196/ProgramacionII/blob/main/Untitled7.ipynb\" target=\"_parent\"><img src=\"https://colab.research.google.com/assets/colab-badge.svg\" alt=\"Open In Colab\"/></a>"
      ]
    },
    {
      "cell_type": "markdown",
      "source": [
        "Programa que calcula las areas de figuras geometricas. \n",
        "Elaborado por: Blanca Estela Cruz Trejo \n",
        "Fecha: 25/08/2022"
      ],
      "metadata": {
        "id": "ha7cXdDCnzc3"
      }
    },
    {
      "cell_type": "code",
      "execution_count": 8,
      "metadata": {
        "colab": {
          "base_uri": "https://localhost:8080/"
        },
        "id": "gFHXmZwSl5zx",
        "outputId": "b0dad6d0-b639-49b2-df71-d61d10c0610b"
      },
      "outputs": [
        {
          "name": "stdout",
          "output_type": "stream",
          "text": [
            "\n",
            "1_ Area de un circulo\n",
            "2_ Area de un cuadrado\n",
            "3_ Area de un triangulo\n",
            "4_ Area de un rectangulo\n",
            "\n",
            "Ingresa el número de la opcion que deseas: 5\n",
            "Error en la opción\n",
            "Elige 1, 2, 3 o 4: 5\n"
          ]
        }
      ],
      "source": [
        "def area_circulo():#funcion del area del circulo\n",
        "    radio=int(input('Dime cuantos cm mide el radio: '))\n",
        "    solucion=3,1416*radio**2\n",
        "\n",
        "def area_cuadrado():#funcion del area del perimetro\n",
        "    lado=int(input('Dime el valor del lado en cm: '))\n",
        "    solucion=lado*lado\n",
        "    print('El perimetro = {} cm'.format(solucion))\n",
        "\n",
        "def area_triangulo():#funcion del area del triangulo\n",
        "    base=int(input('Dime el valor de la base en cm: '))\n",
        "    altura=int(input('Dime el valor de la altura en cm: '))\n",
        "    solucion=(base*altura)/2\n",
        "    print('El perimetro = {} cm'.format(solucion))\n",
        "\n",
        "def area_rectangulo():#funcion del area del rectangulo\n",
        "    base=int(input('Dime el valor de la base en cm: '))\n",
        "    altura=int(input('Dime el valor de la altura en cm: '))\n",
        "    solucion=base*altura\n",
        "    print('El perimetro = {} cm'.format(solucion))\n",
        " \n",
        "def menu():#solo muestra el menú para elegir\n",
        "    print('''\n",
        "1_ Area de un circulo\n",
        "2_ Area de un cuadrado\n",
        "3_ Area de un triangulo\n",
        "4_ Area de un rectangulo\n",
        "'''\n",
        ")\n",
        "menu()\n",
        "elegir=int(input('Ingresa el número de la opcion que deseas: ' ))#pregunta almacenada en la variable que te lleva a las funciones\n",
        "if elegir==1:\n",
        "    area_circulo()\n",
        "elif elegir==2:\n",
        "    area_rectangulo()\n",
        "elif elegir==3:\n",
        "    area_triangulo()\n",
        "elif elegir==4:\n",
        "    area_rectangulo()\n",
        "else:\n",
        "    print('Error en la opción')\n",
        "    elegir=int(input('Elige 1, 2, 3 o 4: '))"
      ]
    }
  ]
}