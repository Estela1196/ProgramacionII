{
  "nbformat": 4,
  "nbformat_minor": 0,
  "metadata": {
    "colab": {
      "name": "Untitled7.ipynb",
      "provenance": [],
      "authorship_tag": "ABX9TyN9tll3ZNjhwHyq9+WiyErX",
      "include_colab_link": true
    },
    "kernelspec": {
      "name": "python3",
      "display_name": "Python 3"
    },
    "language_info": {
      "name": "python"
    }
  },
  "cells": [
    {
      "cell_type": "markdown",
      "metadata": {
        "id": "view-in-github",
        "colab_type": "text"
      },
      "source": [
        "<a href=\"https://colab.research.google.com/github/Estela1196/ProgramacionII/blob/main/Untitled7.ipynb\" target=\"_parent\"><img src=\"https://colab.research.google.com/assets/colab-badge.svg\" alt=\"Open In Colab\"/></a>"
      ]
    },
    {
      "cell_type": "markdown",
      "source": [
        "Programa que calcula las areas de figuras geometricas. \n",
        "Elaborado por: Blanca Estela Cruz Trejo \n",
        "Fecha: 25/08/2022"
      ],
      "metadata": {
        "id": "ha7cXdDCnzc3"
      }
    },
    {
      "cell_type": "code",
      "execution_count": null,
      "metadata": {
        "colab": {
          "base_uri": "https://localhost:8080/"
        },
        "id": "gFHXmZwSl5zx",
        "outputId": "5c29da8b-60a2-4026-d5fb-38b380de0c0b"
      },
      "outputs": [
        {
          "output_type": "stream",
          "name": "stdout",
          "text": [
            "\n",
            "1_ Area de un circulo\n",
            "2_ Area de un cuadrado\n",
            "\n",
            "Elige 1 o 2: 5\n",
            "Sólo puedes elegir 1 o 2\n"
          ]
        }
      ],
      "source": [
        "def area_circulo():#funcion del area del circulo\n",
        "    radio=int(input('Dime cuantos cm mide el radio: '))\n",
        "    solucion=3,1416*radio**2\n",
        "    1\n",
        "    5\n",
        "    \n",
        " \n",
        "def area_cuadrado():#funcion del area del perimetro\n",
        "    lado=int(input('Dime el valor del lado en cm: '))\n",
        "    solucion=lado*lado\n",
        "    print('El perimetro = {} cm'.format(solucion))\n",
        " \n",
        "def menu():#solo muestra el menú para elegir\n",
        "    print('''\n",
        "1_ Area de un circulo\n",
        "2_ Area de un cuadrado\n",
        "'''\n",
        ")\n",
        "menu()\n",
        "elegir=int(input('Elige 1 o 2: ' ))#pregunta almacenada en la variable que te lleva a las funciones\n",
        "if elegir==1:\n",
        "    area_circulo()\n",
        "elif elegir==2:\n",
        "    area_cuadrado()\n",
        "else:\n",
        "    print('Sólo puedes elegir 1 o 2')\n",
        "    elegir=int(input('Elige 1 o 2: '))"
      ]
    }
  ]
}