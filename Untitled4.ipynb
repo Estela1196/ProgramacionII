{
  "nbformat": 4,
  "nbformat_minor": 0,
  "metadata": {
    "colab": {
      "name": "Untitled4.ipynb",
      "provenance": [],
      "authorship_tag": "ABX9TyNVZbC3NGSZzG675McbHF5n",
      "include_colab_link": true
    },
    "kernelspec": {
      "name": "python3",
      "display_name": "Python 3"
    },
    "language_info": {
      "name": "python"
    }
  },
  "cells": [
    {
      "cell_type": "markdown",
      "metadata": {
        "id": "view-in-github",
        "colab_type": "text"
      },
      "source": [
        "<a href=\"https://colab.research.google.com/github/Estela1196/ProgramacionII/blob/main/Untitled4.ipynb\" target=\"_parent\"><img src=\"https://colab.research.google.com/assets/colab-badge.svg\" alt=\"Open In Colab\"/></a>"
      ]
    },
    {
      "cell_type": "markdown",
      "source": [
        "## Programa que pide un numero e imprimime la tabla de multiplicar de ese número con While.\n",
        "Elaborado por: Blanca Estela Cruz Trejo\n",
        "Fecha: 23/08/2022"
      ],
      "metadata": {
        "id": "YLOiDkjFI8Za"
      }
    },
    {
      "cell_type": "code",
      "source": [
        "i=1\n",
        "n= int (input(\"Ingresa un número del 1 al 10 \"))\n",
        "while (i!=10):\n",
        "  print(n,\"X\",i,\"=\",n*i)\n",
        "  i=i+1\n"
      ],
      "metadata": {
        "colab": {
          "base_uri": "https://localhost:8080/"
        },
        "id": "skOPlhb-JqYa",
        "outputId": "ae7cd37f-caff-47c9-ead7-3278c63e52b0"
      },
      "execution_count": 6,
      "outputs": [
        {
          "output_type": "stream",
          "name": "stdout",
          "text": [
            "Ingresa un número del 1 al 10 5\n",
            "5 X 1 = 5\n",
            "5 X 2 = 10\n",
            "5 X 3 = 15\n",
            "5 X 4 = 20\n",
            "5 X 5 = 25\n",
            "5 X 6 = 30\n",
            "5 X 7 = 35\n",
            "5 X 8 = 40\n",
            "5 X 9 = 45\n"
          ]
        }
      ]
    }
  ]
}