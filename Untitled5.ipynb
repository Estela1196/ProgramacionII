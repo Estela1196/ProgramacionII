{
  "nbformat": 4,
  "nbformat_minor": 0,
  "metadata": {
    "colab": {
      "name": "Untitled5.ipynb",
      "provenance": [],
      "authorship_tag": "ABX9TyOLx2Nr7HoUVs8aj+5KWH2Q",
      "include_colab_link": true
    },
    "kernelspec": {
      "name": "python3",
      "display_name": "Python 3"
    },
    "language_info": {
      "name": "python"
    }
  },
  "cells": [
    {
      "cell_type": "markdown",
      "metadata": {
        "id": "view-in-github",
        "colab_type": "text"
      },
      "source": [
        "<a href=\"https://colab.research.google.com/github/Estela1196/ProgramacionII/blob/main/Untitled5.ipynb\" target=\"_parent\"><img src=\"https://colab.research.google.com/assets/colab-badge.svg\" alt=\"Open In Colab\"/></a>"
      ]
    },
    {
      "cell_type": "markdown",
      "source": [
        "## Programa que hace uso de la función Def\n",
        "Elaborado por: Blanca Estela Cruz Trejo\n",
        "Fecha: 23/08/2022"
      ],
      "metadata": {
        "id": "0AALY0SzM-nU"
      }
    },
    {
      "cell_type": "code",
      "execution_count": 3,
      "metadata": {
        "colab": {
          "base_uri": "https://localhost:8080/"
        },
        "id": "ERg8NNG_M9-k",
        "outputId": "85b28256-c82b-4eda-ba98-2569d418a107"
      },
      "outputs": [
        {
          "output_type": "stream",
          "name": "stdout",
          "text": [
            "Escribe tu nombre Blanquis\n",
            "¡Hola!  Blanquis  Como estas\n"
          ]
        }
      ],
      "source": [
        "def holaMundo():\n",
        "  nombre=input(\"Escribe tu nombre \")\n",
        "  print(\"¡Hola! \",nombre,\" Como estas\")\n",
        "\n",
        "holaMundo()"
      ]
    },
    {
      "cell_type": "markdown",
      "source": [
        "Mismo ejercicio pero con paso de Parametros"
      ],
      "metadata": {
        "id": "uVS9HCvkPkqh"
      }
    },
    {
      "cell_type": "code",
      "source": [
        "\n",
        "def saludo(nombre):\n",
        "  print(\"¡Hola! \",nombre,\" como estas\")\n",
        "\n",
        "  #nombre = input(\"Escribe tu nombre \")\n",
        "\n",
        "saludo(\"Blanquis\")\n",
        "nombre=input(\"Escribe tu nombre \")\n",
        "saludo(nombre)"
      ],
      "metadata": {
        "colab": {
          "base_uri": "https://localhost:8080/"
        },
        "id": "9cgQzKWXPjf-",
        "outputId": "e1aad6f1-9f0a-4024-d9d9-adcdfee027eb"
      },
      "execution_count": 6,
      "outputs": [
        {
          "output_type": "stream",
          "name": "stdout",
          "text": [
            "¡Hola!  Blanquis  como estas\n",
            "Escribe tu nombre Blanquis\n",
            "¡Hola!  Blanquis  como estas\n"
          ]
        }
      ]
    }
  ]
}